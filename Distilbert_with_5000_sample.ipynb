{
  "cells": [
    {
      "cell_type": "markdown",
      "metadata": {
        "id": "view-in-github",
        "colab_type": "text"
      },
      "source": [
        "<a href=\"https://colab.research.google.com/github/gmrwh92/Machine-Learning-Deep-Learning/blob/main/Distilbert_with_5000_sample.ipynb\" target=\"_parent\"><img src=\"https://colab.research.google.com/assets/colab-badge.svg\" alt=\"Open In Colab\"/></a>"
      ]
    },
    {
      "cell_type": "code",
      "execution_count": null,
      "id": "cb8970f3",
      "metadata": {
        "id": "cb8970f3",
        "outputId": "7ad58048-7554-4823-ccb6-30d49abd4fac"
      },
      "outputs": [
        {
          "name": "stderr",
          "output_type": "stream",
          "text": [
            "C:\\Users\\gmrwh\\anaconda3\\lib\\site-packages\\torchvision\\io\\image.py:13: UserWarning: Failed to load image Python extension: [WinError 127] 지정된 프로시저를 찾을 수 없습니다\n",
            "  warn(f\"Failed to load image Python extension: {e}\")\n"
          ]
        }
      ],
      "source": [
        "import pandas as pd\n",
        "import nltk\n",
        "from nltk.corpus import stopwords, wordnet\n",
        "from nltk.stem import WordNetLemmatizer\n",
        "import string\n",
        "from nltk.tokenize import word_tokenize\n",
        "import re\n",
        "from nltk.tag import pos_tag\n",
        "\n",
        "import torch\n",
        "import torch.nn as nn\n",
        "import torch.optim as optim\n",
        "from torch.utils.data import DataLoader, Dataset\n",
        "import numpy as np\n",
        "from sklearn.model_selection import train_test_split\n",
        "from sklearn.preprocessing import LabelEncoder\n",
        "from sklearn.feature_extraction.text import CountVectorizer\n",
        "from transformers import BertTokenizer, BertForSequenceClassification\n",
        "from transformers import pipeline\n",
        "from sklearn.metrics import accuracy_score\n",
        "from transformers import EarlyStoppingCallback"
      ]
    },
    {
      "cell_type": "code",
      "execution_count": null,
      "id": "f13cd4c1",
      "metadata": {
        "id": "f13cd4c1",
        "outputId": "655f453e-ba16-412a-c78f-c81b7e5f4512"
      },
      "outputs": [
        {
          "name": "stderr",
          "output_type": "stream",
          "text": [
            "[nltk_data] Downloading package wordnet to\n",
            "[nltk_data]     C:\\Users\\gmrwh\\AppData\\Roaming\\nltk_data...\n",
            "[nltk_data]   Package wordnet is already up-to-date!\n",
            "[nltk_data] Downloading package stopwords to\n",
            "[nltk_data]     C:\\Users\\gmrwh\\AppData\\Roaming\\nltk_data...\n",
            "[nltk_data]   Package stopwords is already up-to-date!\n",
            "[nltk_data] Downloading package punkt to\n",
            "[nltk_data]     C:\\Users\\gmrwh\\AppData\\Roaming\\nltk_data...\n",
            "[nltk_data]   Package punkt is already up-to-date!\n",
            "[nltk_data] Downloading package punkt_tab to\n",
            "[nltk_data]     C:\\Users\\gmrwh\\AppData\\Roaming\\nltk_data...\n",
            "[nltk_data]   Package punkt_tab is already up-to-date!\n",
            "[nltk_data] Downloading package averaged_perceptron_tagger_eng to\n",
            "[nltk_data]     C:\\Users\\gmrwh\\AppData\\Roaming\\nltk_data...\n",
            "[nltk_data]   Package averaged_perceptron_tagger_eng is already up-to-\n",
            "[nltk_data]       date!\n"
          ]
        },
        {
          "data": {
            "text/plain": [
              "True"
            ]
          },
          "execution_count": 2,
          "metadata": {},
          "output_type": "execute_result"
        }
      ],
      "source": [
        "nltk.download('wordnet')\n",
        "nltk.download('stopwords')\n",
        "nltk.download('punkt')\n",
        "nltk.download('punkt_tab')\n",
        "nltk.download('averaged_perceptron_tagger_eng')"
      ]
    },
    {
      "cell_type": "code",
      "execution_count": null,
      "id": "1421195e",
      "metadata": {
        "id": "1421195e",
        "outputId": "980db783-8236-4c49-eb2f-8d1ad48c162c"
      },
      "outputs": [
        {
          "name": "stdout",
          "output_type": "stream",
          "text": [
            "0    2532\n",
            "1    2468\n",
            "Name: sentiment, dtype: int64\n"
          ]
        }
      ],
      "source": [
        "## load dataset\n",
        "df = pd.read_csv('IMDB Dataset.csv')\n",
        "df['sentiment'] = df['sentiment'].apply(lambda x: 1 if x == 'positive' else 0)\n",
        "df = df.head(5000)\n",
        "## check the balance of labels\n",
        "value_counts = df['sentiment'].value_counts()\n",
        "print(value_counts)"
      ]
    },
    {
      "cell_type": "code",
      "execution_count": null,
      "id": "00954492",
      "metadata": {
        "id": "00954492",
        "outputId": "2e9156df-8dba-437e-966b-5a61cdcfe3ed"
      },
      "outputs": [
        {
          "data": {
            "text/html": [
              "<div>\n",
              "<style scoped>\n",
              "    .dataframe tbody tr th:only-of-type {\n",
              "        vertical-align: middle;\n",
              "    }\n",
              "\n",
              "    .dataframe tbody tr th {\n",
              "        vertical-align: top;\n",
              "    }\n",
              "\n",
              "    .dataframe thead th {\n",
              "        text-align: right;\n",
              "    }\n",
              "</style>\n",
              "<table border=\"1\" class=\"dataframe\">\n",
              "  <thead>\n",
              "    <tr style=\"text-align: right;\">\n",
              "      <th></th>\n",
              "      <th>review</th>\n",
              "      <th>sentiment</th>\n",
              "    </tr>\n",
              "  </thead>\n",
              "  <tbody>\n",
              "    <tr>\n",
              "      <th>0</th>\n",
              "      <td>One of the other reviewers has mentioned that ...</td>\n",
              "      <td>1</td>\n",
              "    </tr>\n",
              "    <tr>\n",
              "      <th>1</th>\n",
              "      <td>A wonderful little production. &lt;br /&gt;&lt;br /&gt;The...</td>\n",
              "      <td>1</td>\n",
              "    </tr>\n",
              "    <tr>\n",
              "      <th>2</th>\n",
              "      <td>I thought this was a wonderful way to spend ti...</td>\n",
              "      <td>1</td>\n",
              "    </tr>\n",
              "    <tr>\n",
              "      <th>3</th>\n",
              "      <td>Basically there's a family where a little boy ...</td>\n",
              "      <td>0</td>\n",
              "    </tr>\n",
              "    <tr>\n",
              "      <th>4</th>\n",
              "      <td>Petter Mattei's \"Love in the Time of Money\" is...</td>\n",
              "      <td>1</td>\n",
              "    </tr>\n",
              "    <tr>\n",
              "      <th>...</th>\n",
              "      <td>...</td>\n",
              "      <td>...</td>\n",
              "    </tr>\n",
              "    <tr>\n",
              "      <th>4995</th>\n",
              "      <td>An interesting slasher film with multiple susp...</td>\n",
              "      <td>0</td>\n",
              "    </tr>\n",
              "    <tr>\n",
              "      <th>4996</th>\n",
              "      <td>i watched this series when it first came out i...</td>\n",
              "      <td>1</td>\n",
              "    </tr>\n",
              "    <tr>\n",
              "      <th>4997</th>\n",
              "      <td>Once again Jet Li brings his charismatic prese...</td>\n",
              "      <td>1</td>\n",
              "    </tr>\n",
              "    <tr>\n",
              "      <th>4998</th>\n",
              "      <td>I rented this movie, after hearing Chris Gore ...</td>\n",
              "      <td>0</td>\n",
              "    </tr>\n",
              "    <tr>\n",
              "      <th>4999</th>\n",
              "      <td>This was a big disappointment for me. I think ...</td>\n",
              "      <td>0</td>\n",
              "    </tr>\n",
              "  </tbody>\n",
              "</table>\n",
              "<p>5000 rows × 2 columns</p>\n",
              "</div>"
            ],
            "text/plain": [
              "                                                 review  sentiment\n",
              "0     One of the other reviewers has mentioned that ...          1\n",
              "1     A wonderful little production. <br /><br />The...          1\n",
              "2     I thought this was a wonderful way to spend ti...          1\n",
              "3     Basically there's a family where a little boy ...          0\n",
              "4     Petter Mattei's \"Love in the Time of Money\" is...          1\n",
              "...                                                 ...        ...\n",
              "4995  An interesting slasher film with multiple susp...          0\n",
              "4996  i watched this series when it first came out i...          1\n",
              "4997  Once again Jet Li brings his charismatic prese...          1\n",
              "4998  I rented this movie, after hearing Chris Gore ...          0\n",
              "4999  This was a big disappointment for me. I think ...          0\n",
              "\n",
              "[5000 rows x 2 columns]"
            ]
          },
          "execution_count": 4,
          "metadata": {},
          "output_type": "execute_result"
        }
      ],
      "source": [
        "df"
      ]
    },
    {
      "cell_type": "code",
      "execution_count": null,
      "id": "85323382",
      "metadata": {
        "id": "85323382"
      },
      "outputs": [],
      "source": [
        "def get_wordnet_pos(tag):\n",
        "\n",
        "    if tag.startswith('J'):\n",
        "        return wordnet.ADJ\n",
        "    elif tag.startswith('V'):\n",
        "        return wordnet.VERB\n",
        "    elif tag.startswith('N'):\n",
        "        return wordnet.NOUN\n",
        "    elif tag.startswith('R'):\n",
        "        return wordnet.ADV\n",
        "    else:\n",
        "        return wordnet.NOUN  # 기본값"
      ]
    },
    {
      "cell_type": "code",
      "execution_count": null,
      "id": "9504f686",
      "metadata": {
        "id": "9504f686",
        "outputId": "6503cc0f-1d00-4531-d7ab-1ca634bae48c"
      },
      "outputs": [
        {
          "data": {
            "text/html": [
              "<div>\n",
              "<style scoped>\n",
              "    .dataframe tbody tr th:only-of-type {\n",
              "        vertical-align: middle;\n",
              "    }\n",
              "\n",
              "    .dataframe tbody tr th {\n",
              "        vertical-align: top;\n",
              "    }\n",
              "\n",
              "    .dataframe thead th {\n",
              "        text-align: right;\n",
              "    }\n",
              "</style>\n",
              "<table border=\"1\" class=\"dataframe\">\n",
              "  <thead>\n",
              "    <tr style=\"text-align: right;\">\n",
              "      <th></th>\n",
              "      <th>review</th>\n",
              "      <th>sentiment</th>\n",
              "      <th>cleaned_reviews</th>\n",
              "    </tr>\n",
              "  </thead>\n",
              "  <tbody>\n",
              "    <tr>\n",
              "      <th>0</th>\n",
              "      <td>One of the other reviewers has mentioned that ...</td>\n",
              "      <td>1</td>\n",
              "      <td>one reviewer mention watch 1 oz episode youll ...</td>\n",
              "    </tr>\n",
              "    <tr>\n",
              "      <th>1</th>\n",
              "      <td>A wonderful little production. &lt;br /&gt;&lt;br /&gt;The...</td>\n",
              "      <td>1</td>\n",
              "      <td>wonderful little production filming technique ...</td>\n",
              "    </tr>\n",
              "    <tr>\n",
              "      <th>2</th>\n",
              "      <td>I thought this was a wonderful way to spend ti...</td>\n",
              "      <td>1</td>\n",
              "      <td>think wonderful way spend time hot summer week...</td>\n",
              "    </tr>\n",
              "    <tr>\n",
              "      <th>3</th>\n",
              "      <td>Basically there's a family where a little boy ...</td>\n",
              "      <td>0</td>\n",
              "      <td>basically theres family little boy jake think ...</td>\n",
              "    </tr>\n",
              "    <tr>\n",
              "      <th>4</th>\n",
              "      <td>Petter Mattei's \"Love in the Time of Money\" is...</td>\n",
              "      <td>1</td>\n",
              "      <td>petter matteis love time money visually stunni...</td>\n",
              "    </tr>\n",
              "  </tbody>\n",
              "</table>\n",
              "</div>"
            ],
            "text/plain": [
              "                                              review  sentiment  \\\n",
              "0  One of the other reviewers has mentioned that ...          1   \n",
              "1  A wonderful little production. <br /><br />The...          1   \n",
              "2  I thought this was a wonderful way to spend ti...          1   \n",
              "3  Basically there's a family where a little boy ...          0   \n",
              "4  Petter Mattei's \"Love in the Time of Money\" is...          1   \n",
              "\n",
              "                                     cleaned_reviews  \n",
              "0  one reviewer mention watch 1 oz episode youll ...  \n",
              "1  wonderful little production filming technique ...  \n",
              "2  think wonderful way spend time hot summer week...  \n",
              "3  basically theres family little boy jake think ...  \n",
              "4  petter matteis love time money visually stunni...  "
            ]
          },
          "execution_count": 6,
          "metadata": {},
          "output_type": "execute_result"
        }
      ],
      "source": [
        "lemmatizer = WordNetLemmatizer()\n",
        "stop_words = set(stopwords.words('english'))\n",
        "def data_preprocessing(text):\n",
        "    if isinstance(text, str):\n",
        "        text = text.lower()\n",
        "        text = re.sub('<.*?>', '', text)  #\n",
        "        text = ''.join([c for c in text if c not in string.punctuation])\n",
        "\n",
        "        words = word_tokenize(text)\n",
        "        words = pos_tag(words)\n",
        "        words = [lemmatizer.lemmatize(word, get_wordnet_pos(tag)) for word, tag in words if word not in stop_words]\n",
        "\n",
        "        text = ' '.join(words)\n",
        "    else:\n",
        "        text = ''\n",
        "    return text\n",
        "\n",
        "df['cleaned_reviews'] = df['review'].apply(data_preprocessing)\n",
        "df.head()"
      ]
    },
    {
      "cell_type": "code",
      "execution_count": null,
      "id": "fd59ff43",
      "metadata": {
        "id": "fd59ff43",
        "outputId": "239c0e17-e6f2-4f71-bb34-fab0c567a989"
      },
      "outputs": [
        {
          "name": "stderr",
          "output_type": "stream",
          "text": [
            "Some weights of DistilBertForSequenceClassification were not initialized from the model checkpoint at distilbert-base-uncased and are newly initialized: ['classifier.bias', 'classifier.weight', 'pre_classifier.bias', 'pre_classifier.weight']\n",
            "You should probably TRAIN this model on a down-stream task to be able to use it for predictions and inference.\n"
          ]
        }
      ],
      "source": [
        "from transformers import DistilBertTokenizer, DistilBertForSequenceClassification\n",
        "model_name = \"distilbert-base-uncased\"  # 감성 분석에 최적화된 미리 학습된 모델\n",
        "tokenizer = DistilBertTokenizer.from_pretrained(model_name)\n",
        "model = DistilBertForSequenceClassification.from_pretrained(model_name)"
      ]
    },
    {
      "cell_type": "code",
      "execution_count": null,
      "id": "9a741fbe",
      "metadata": {
        "id": "9a741fbe"
      },
      "outputs": [],
      "source": [
        "def predict_sentiment(text):\n",
        "    inputs = tokenizer(text, return_tensors=\"pt\", truncation=True, padding=True, max_length=512)\n",
        "    with torch.no_grad():\n",
        "        outputs = model(**inputs)\n",
        "    logits = outputs.logits\n",
        "    predictions = torch.argmax(logits, dim=-1).item()  # 0 or 1 값 반환\n",
        "    return  predictions\n",
        "\n",
        "# 데이터프레임에 적용\n",
        "df[\"pretrained\"] = df[\"cleaned_reviews\"].apply(predict_sentiment)"
      ]
    },
    {
      "cell_type": "code",
      "execution_count": null,
      "id": "921370e1",
      "metadata": {
        "id": "921370e1",
        "outputId": "e1bfa54e-3a24-4266-b4a7-5c52cdd84072"
      },
      "outputs": [
        {
          "data": {
            "text/html": [
              "<div>\n",
              "<style scoped>\n",
              "    .dataframe tbody tr th:only-of-type {\n",
              "        vertical-align: middle;\n",
              "    }\n",
              "\n",
              "    .dataframe tbody tr th {\n",
              "        vertical-align: top;\n",
              "    }\n",
              "\n",
              "    .dataframe thead th {\n",
              "        text-align: right;\n",
              "    }\n",
              "</style>\n",
              "<table border=\"1\" class=\"dataframe\">\n",
              "  <thead>\n",
              "    <tr style=\"text-align: right;\">\n",
              "      <th></th>\n",
              "      <th>review</th>\n",
              "      <th>sentiment</th>\n",
              "      <th>cleaned_reviews</th>\n",
              "      <th>pretrained</th>\n",
              "    </tr>\n",
              "  </thead>\n",
              "  <tbody>\n",
              "    <tr>\n",
              "      <th>0</th>\n",
              "      <td>One of the other reviewers has mentioned that ...</td>\n",
              "      <td>1</td>\n",
              "      <td>one reviewer mention watch 1 oz episode youll ...</td>\n",
              "      <td>1</td>\n",
              "    </tr>\n",
              "    <tr>\n",
              "      <th>1</th>\n",
              "      <td>A wonderful little production. &lt;br /&gt;&lt;br /&gt;The...</td>\n",
              "      <td>1</td>\n",
              "      <td>wonderful little production filming technique ...</td>\n",
              "      <td>1</td>\n",
              "    </tr>\n",
              "    <tr>\n",
              "      <th>2</th>\n",
              "      <td>I thought this was a wonderful way to spend ti...</td>\n",
              "      <td>1</td>\n",
              "      <td>think wonderful way spend time hot summer week...</td>\n",
              "      <td>1</td>\n",
              "    </tr>\n",
              "    <tr>\n",
              "      <th>3</th>\n",
              "      <td>Basically there's a family where a little boy ...</td>\n",
              "      <td>0</td>\n",
              "      <td>basically theres family little boy jake think ...</td>\n",
              "      <td>1</td>\n",
              "    </tr>\n",
              "    <tr>\n",
              "      <th>4</th>\n",
              "      <td>Petter Mattei's \"Love in the Time of Money\" is...</td>\n",
              "      <td>1</td>\n",
              "      <td>petter matteis love time money visually stunni...</td>\n",
              "      <td>1</td>\n",
              "    </tr>\n",
              "    <tr>\n",
              "      <th>...</th>\n",
              "      <td>...</td>\n",
              "      <td>...</td>\n",
              "      <td>...</td>\n",
              "      <td>...</td>\n",
              "    </tr>\n",
              "    <tr>\n",
              "      <th>4995</th>\n",
              "      <td>An interesting slasher film with multiple susp...</td>\n",
              "      <td>0</td>\n",
              "      <td>interesting slasher film multiple suspectsincl...</td>\n",
              "      <td>1</td>\n",
              "    </tr>\n",
              "    <tr>\n",
              "      <th>4996</th>\n",
              "      <td>i watched this series when it first came out i...</td>\n",
              "      <td>1</td>\n",
              "      <td>watch series first come 70si 14 year old watch...</td>\n",
              "      <td>1</td>\n",
              "    </tr>\n",
              "    <tr>\n",
              "      <th>4997</th>\n",
              "      <td>Once again Jet Li brings his charismatic prese...</td>\n",
              "      <td>1</td>\n",
              "      <td>jet li bring charismatic presence movie screen...</td>\n",
              "      <td>0</td>\n",
              "    </tr>\n",
              "    <tr>\n",
              "      <th>4998</th>\n",
              "      <td>I rented this movie, after hearing Chris Gore ...</td>\n",
              "      <td>0</td>\n",
              "      <td>rent movie hear chris gore say something effec...</td>\n",
              "      <td>1</td>\n",
              "    </tr>\n",
              "    <tr>\n",
              "      <th>4999</th>\n",
              "      <td>This was a big disappointment for me. I think ...</td>\n",
              "      <td>0</td>\n",
              "      <td>big disappointment think bad mastroiannimovie ...</td>\n",
              "      <td>1</td>\n",
              "    </tr>\n",
              "  </tbody>\n",
              "</table>\n",
              "<p>5000 rows × 4 columns</p>\n",
              "</div>"
            ],
            "text/plain": [
              "                                                 review  sentiment  \\\n",
              "0     One of the other reviewers has mentioned that ...          1   \n",
              "1     A wonderful little production. <br /><br />The...          1   \n",
              "2     I thought this was a wonderful way to spend ti...          1   \n",
              "3     Basically there's a family where a little boy ...          0   \n",
              "4     Petter Mattei's \"Love in the Time of Money\" is...          1   \n",
              "...                                                 ...        ...   \n",
              "4995  An interesting slasher film with multiple susp...          0   \n",
              "4996  i watched this series when it first came out i...          1   \n",
              "4997  Once again Jet Li brings his charismatic prese...          1   \n",
              "4998  I rented this movie, after hearing Chris Gore ...          0   \n",
              "4999  This was a big disappointment for me. I think ...          0   \n",
              "\n",
              "                                        cleaned_reviews  pretrained  \n",
              "0     one reviewer mention watch 1 oz episode youll ...           1  \n",
              "1     wonderful little production filming technique ...           1  \n",
              "2     think wonderful way spend time hot summer week...           1  \n",
              "3     basically theres family little boy jake think ...           1  \n",
              "4     petter matteis love time money visually stunni...           1  \n",
              "...                                                 ...         ...  \n",
              "4995  interesting slasher film multiple suspectsincl...           1  \n",
              "4996  watch series first come 70si 14 year old watch...           1  \n",
              "4997  jet li bring charismatic presence movie screen...           0  \n",
              "4998  rent movie hear chris gore say something effec...           1  \n",
              "4999  big disappointment think bad mastroiannimovie ...           1  \n",
              "\n",
              "[5000 rows x 4 columns]"
            ]
          },
          "execution_count": 9,
          "metadata": {},
          "output_type": "execute_result"
        }
      ],
      "source": [
        "df"
      ]
    },
    {
      "cell_type": "markdown",
      "id": "523681e6",
      "metadata": {
        "id": "523681e6"
      },
      "source": [
        "# 파인튜닝"
      ]
    },
    {
      "cell_type": "code",
      "execution_count": null,
      "id": "82622727",
      "metadata": {
        "id": "82622727"
      },
      "outputs": [],
      "source": [
        "from transformers import DistilBertTokenizer, DistilBertForSequenceClassification, Trainer, TrainingArguments"
      ]
    },
    {
      "cell_type": "code",
      "execution_count": null,
      "id": "71d94ee5",
      "metadata": {
        "id": "71d94ee5"
      },
      "outputs": [],
      "source": [
        "from datasets import Dataset"
      ]
    },
    {
      "cell_type": "code",
      "execution_count": null,
      "id": "a0a3d00e",
      "metadata": {
        "id": "a0a3d00e"
      },
      "outputs": [],
      "source": [
        "texts = df['cleaned_reviews'].tolist()  # 텍스트\n",
        "labels = df['sentiment']  # 감성 레이블 (예: 0 = 부정, 1 = 긍정)"
      ]
    },
    {
      "cell_type": "code",
      "execution_count": null,
      "id": "64c8b4b0",
      "metadata": {
        "id": "64c8b4b0"
      },
      "outputs": [],
      "source": [
        "dataset = Dataset.from_dict({\"text\": texts, \"label\": labels})"
      ]
    },
    {
      "cell_type": "code",
      "execution_count": null,
      "id": "3db65107",
      "metadata": {
        "id": "3db65107"
      },
      "outputs": [],
      "source": [
        "train_dataset = dataset.train_test_split(test_size=0.2)['train']\n",
        "eval_dataset = dataset.train_test_split(test_size=0.2)['test']"
      ]
    },
    {
      "cell_type": "code",
      "execution_count": null,
      "id": "6088cab5",
      "metadata": {
        "id": "6088cab5"
      },
      "outputs": [],
      "source": [
        "def preprocess_function(examples):\n",
        "    return tokenizer(examples['text'], padding=True, truncation=True)"
      ]
    },
    {
      "cell_type": "code",
      "execution_count": null,
      "id": "f7834c11",
      "metadata": {
        "colab": {
          "referenced_widgets": [
            "fedc013330ba4cc0a5e939e73986ff0c",
            "7e68cc4a351d453495522535150dc269"
          ]
        },
        "id": "f7834c11",
        "outputId": "d2281f5a-e03a-4fd9-a66e-4e42bb196fba"
      },
      "outputs": [
        {
          "data": {
            "application/vnd.jupyter.widget-view+json": {
              "model_id": "fedc013330ba4cc0a5e939e73986ff0c",
              "version_major": 2,
              "version_minor": 0
            },
            "text/plain": [
              "Map:   0%|          | 0/4000 [00:00<?, ? examples/s]"
            ]
          },
          "metadata": {},
          "output_type": "display_data"
        },
        {
          "data": {
            "application/vnd.jupyter.widget-view+json": {
              "model_id": "7e68cc4a351d453495522535150dc269",
              "version_major": 2,
              "version_minor": 0
            },
            "text/plain": [
              "Map:   0%|          | 0/1000 [00:00<?, ? examples/s]"
            ]
          },
          "metadata": {},
          "output_type": "display_data"
        }
      ],
      "source": [
        "train_dataset = train_dataset.map(preprocess_function, batched=True)\n",
        "eval_dataset = eval_dataset.map(preprocess_function, batched=True)"
      ]
    },
    {
      "cell_type": "code",
      "execution_count": null,
      "id": "445b08ac",
      "metadata": {
        "id": "445b08ac"
      },
      "outputs": [],
      "source": [
        "import os\n",
        "os.environ[\"WANDB_DISABLED\"] = \"true\""
      ]
    },
    {
      "cell_type": "code",
      "execution_count": null,
      "id": "0956e1c0",
      "metadata": {
        "scrolled": true,
        "id": "0956e1c0",
        "outputId": "d59124a0-0f12-488e-fab5-bdca9a900e84"
      },
      "outputs": [
        {
          "name": "stderr",
          "output_type": "stream",
          "text": [
            "C:\\Users\\gmrwh\\anaconda3\\lib\\site-packages\\transformers\\training_args.py:1568: FutureWarning: `evaluation_strategy` is deprecated and will be removed in version 4.46 of 🤗 Transformers. Use `eval_strategy` instead\n",
            "  warnings.warn(\n",
            "Using the `WANDB_DISABLED` environment variable is deprecated and will be removed in v5. Use the --report_to flag to control the integrations used for logging result (for instance --report_to none).\n"
          ]
        },
        {
          "data": {
            "text/html": [
              "\n",
              "    <div>\n",
              "      \n",
              "      <progress value='750' max='750' style='width:300px; height:20px; vertical-align: middle;'></progress>\n",
              "      [750/750 12:06:07, Epoch 3/3]\n",
              "    </div>\n",
              "    <table border=\"1\" class=\"dataframe\">\n",
              "  <thead>\n",
              " <tr style=\"text-align: left;\">\n",
              "      <th>Epoch</th>\n",
              "      <th>Training Loss</th>\n",
              "      <th>Validation Loss</th>\n",
              "    </tr>\n",
              "  </thead>\n",
              "  <tbody>\n",
              "    <tr>\n",
              "      <td>1</td>\n",
              "      <td>0.370700</td>\n",
              "      <td>0.257580</td>\n",
              "    </tr>\n",
              "    <tr>\n",
              "      <td>2</td>\n",
              "      <td>0.247600</td>\n",
              "      <td>0.158421</td>\n",
              "    </tr>\n",
              "    <tr>\n",
              "      <td>3</td>\n",
              "      <td>0.082700</td>\n",
              "      <td>0.144402</td>\n",
              "    </tr>\n",
              "  </tbody>\n",
              "</table><p>"
            ],
            "text/plain": [
              "<IPython.core.display.HTML object>"
            ]
          },
          "metadata": {},
          "output_type": "display_data"
        }
      ],
      "source": [
        "# 8. 훈련 인자 설정\n",
        "\n",
        "early_stopping = EarlyStoppingCallback(\n",
        "    early_stopping_patience=2  # 성능 향상이 없을 때 2번 기다렸다가 종료\n",
        ")\n",
        "\n",
        "training_args = TrainingArguments(\n",
        "    output_dir=\"./results\",           # 결과 저장 디렉터리\n",
        "    evaluation_strategy=\"epoch\",      # 에포크마다 평가\n",
        "    learning_rate=2e-5,               # 학습률\n",
        "    per_device_train_batch_size=16,    # 훈련 배치 사이즈\n",
        "    per_device_eval_batch_size=16,     # 평가 배치 사이즈\n",
        "    num_train_epochs=3,               # 에포크 수\n",
        "    weight_decay=0.01,                # 가중치 감쇠\n",
        "    logging_dir=\"./logs\",             # 로그 파일 저장 디렉터리\n",
        "    logging_steps=10,                 # 10 스텝마다 로그 출력\n",
        "    save_strategy=\"epoch\",            # 모델을 매 에포크마다 저장\n",
        "    load_best_model_at_end=True,      # 훈련 후 가장 좋은 모델을 로드\n",
        ")\n",
        "\n",
        "# 9. Trainer 설정\n",
        "trainer = Trainer(\n",
        "    model=model,\n",
        "    args=training_args,\n",
        "    train_dataset=train_dataset,\n",
        "    eval_dataset=eval_dataset,\n",
        "    callbacks=[early_stopping]\n",
        ")\n",
        "\n",
        "# 10. 모델 훈련\n",
        "trainer.train()\n",
        "\n",
        "# 11. 모델 저장\n",
        "model.save_pretrained(\"./saved_model\")"
      ]
    },
    {
      "cell_type": "code",
      "execution_count": null,
      "id": "aeea1b29",
      "metadata": {
        "id": "aeea1b29",
        "outputId": "490c5446-3575-4632-9e7a-59fbd456b019"
      },
      "outputs": [
        {
          "data": {
            "text/plain": [
              "('./my_trained_model\\\\tokenizer_config.json',\n",
              " './my_trained_model\\\\special_tokens_map.json',\n",
              " './my_trained_model\\\\vocab.txt',\n",
              " './my_trained_model\\\\added_tokens.json')"
            ]
          },
          "execution_count": 19,
          "metadata": {},
          "output_type": "execute_result"
        }
      ],
      "source": [
        "# 11. 모델 저장\n",
        "# 모델과 토크나이저를 저장하는 코드\n",
        "model.save_pretrained(\"./my_trained_model\")  # 모델 저장\n",
        "tokenizer.save_pretrained(\"./my_trained_model\")  # 토크나이저 저장\n"
      ]
    },
    {
      "cell_type": "code",
      "execution_count": null,
      "id": "e9562d03",
      "metadata": {
        "id": "e9562d03"
      },
      "outputs": [],
      "source": [
        "model_path = \"./my_trained_model\"  # 트레이닝 후 저장된 모델 경로\n",
        "tokenizer = DistilBertTokenizer.from_pretrained(model_path)\n",
        "model = DistilBertForSequenceClassification.from_pretrained(model_path)\n"
      ]
    },
    {
      "cell_type": "code",
      "execution_count": null,
      "id": "45e2629d",
      "metadata": {
        "id": "45e2629d",
        "outputId": "3552da59-162e-4a4e-fe80-27c4a2f236d4"
      },
      "outputs": [
        {
          "data": {
            "text/html": [
              "<div>\n",
              "<style scoped>\n",
              "    .dataframe tbody tr th:only-of-type {\n",
              "        vertical-align: middle;\n",
              "    }\n",
              "\n",
              "    .dataframe tbody tr th {\n",
              "        vertical-align: top;\n",
              "    }\n",
              "\n",
              "    .dataframe thead th {\n",
              "        text-align: right;\n",
              "    }\n",
              "</style>\n",
              "<table border=\"1\" class=\"dataframe\">\n",
              "  <thead>\n",
              "    <tr style=\"text-align: right;\">\n",
              "      <th></th>\n",
              "      <th>review</th>\n",
              "      <th>sentiment</th>\n",
              "      <th>cleaned_reviews</th>\n",
              "      <th>pretrained</th>\n",
              "      <th>fine_tuning</th>\n",
              "    </tr>\n",
              "  </thead>\n",
              "  <tbody>\n",
              "    <tr>\n",
              "      <th>0</th>\n",
              "      <td>One of the other reviewers has mentioned that ...</td>\n",
              "      <td>1</td>\n",
              "      <td>one reviewer mention watch 1 oz episode youll ...</td>\n",
              "      <td>1</td>\n",
              "      <td>1</td>\n",
              "    </tr>\n",
              "    <tr>\n",
              "      <th>1</th>\n",
              "      <td>A wonderful little production. &lt;br /&gt;&lt;br /&gt;The...</td>\n",
              "      <td>1</td>\n",
              "      <td>wonderful little production filming technique ...</td>\n",
              "      <td>1</td>\n",
              "      <td>1</td>\n",
              "    </tr>\n",
              "    <tr>\n",
              "      <th>2</th>\n",
              "      <td>I thought this was a wonderful way to spend ti...</td>\n",
              "      <td>1</td>\n",
              "      <td>think wonderful way spend time hot summer week...</td>\n",
              "      <td>1</td>\n",
              "      <td>1</td>\n",
              "    </tr>\n",
              "    <tr>\n",
              "      <th>3</th>\n",
              "      <td>Basically there's a family where a little boy ...</td>\n",
              "      <td>0</td>\n",
              "      <td>basically theres family little boy jake think ...</td>\n",
              "      <td>1</td>\n",
              "      <td>0</td>\n",
              "    </tr>\n",
              "    <tr>\n",
              "      <th>4</th>\n",
              "      <td>Petter Mattei's \"Love in the Time of Money\" is...</td>\n",
              "      <td>1</td>\n",
              "      <td>petter matteis love time money visually stunni...</td>\n",
              "      <td>1</td>\n",
              "      <td>1</td>\n",
              "    </tr>\n",
              "    <tr>\n",
              "      <th>...</th>\n",
              "      <td>...</td>\n",
              "      <td>...</td>\n",
              "      <td>...</td>\n",
              "      <td>...</td>\n",
              "      <td>...</td>\n",
              "    </tr>\n",
              "    <tr>\n",
              "      <th>4995</th>\n",
              "      <td>An interesting slasher film with multiple susp...</td>\n",
              "      <td>0</td>\n",
              "      <td>interesting slasher film multiple suspectsincl...</td>\n",
              "      <td>1</td>\n",
              "      <td>0</td>\n",
              "    </tr>\n",
              "    <tr>\n",
              "      <th>4996</th>\n",
              "      <td>i watched this series when it first came out i...</td>\n",
              "      <td>1</td>\n",
              "      <td>watch series first come 70si 14 year old watch...</td>\n",
              "      <td>1</td>\n",
              "      <td>1</td>\n",
              "    </tr>\n",
              "    <tr>\n",
              "      <th>4997</th>\n",
              "      <td>Once again Jet Li brings his charismatic prese...</td>\n",
              "      <td>1</td>\n",
              "      <td>jet li bring charismatic presence movie screen...</td>\n",
              "      <td>0</td>\n",
              "      <td>1</td>\n",
              "    </tr>\n",
              "    <tr>\n",
              "      <th>4998</th>\n",
              "      <td>I rented this movie, after hearing Chris Gore ...</td>\n",
              "      <td>0</td>\n",
              "      <td>rent movie hear chris gore say something effec...</td>\n",
              "      <td>1</td>\n",
              "      <td>0</td>\n",
              "    </tr>\n",
              "    <tr>\n",
              "      <th>4999</th>\n",
              "      <td>This was a big disappointment for me. I think ...</td>\n",
              "      <td>0</td>\n",
              "      <td>big disappointment think bad mastroiannimovie ...</td>\n",
              "      <td>1</td>\n",
              "      <td>0</td>\n",
              "    </tr>\n",
              "  </tbody>\n",
              "</table>\n",
              "<p>5000 rows × 5 columns</p>\n",
              "</div>"
            ],
            "text/plain": [
              "                                                 review  sentiment  \\\n",
              "0     One of the other reviewers has mentioned that ...          1   \n",
              "1     A wonderful little production. <br /><br />The...          1   \n",
              "2     I thought this was a wonderful way to spend ti...          1   \n",
              "3     Basically there's a family where a little boy ...          0   \n",
              "4     Petter Mattei's \"Love in the Time of Money\" is...          1   \n",
              "...                                                 ...        ...   \n",
              "4995  An interesting slasher film with multiple susp...          0   \n",
              "4996  i watched this series when it first came out i...          1   \n",
              "4997  Once again Jet Li brings his charismatic prese...          1   \n",
              "4998  I rented this movie, after hearing Chris Gore ...          0   \n",
              "4999  This was a big disappointment for me. I think ...          0   \n",
              "\n",
              "                                        cleaned_reviews  pretrained  \\\n",
              "0     one reviewer mention watch 1 oz episode youll ...           1   \n",
              "1     wonderful little production filming technique ...           1   \n",
              "2     think wonderful way spend time hot summer week...           1   \n",
              "3     basically theres family little boy jake think ...           1   \n",
              "4     petter matteis love time money visually stunni...           1   \n",
              "...                                                 ...         ...   \n",
              "4995  interesting slasher film multiple suspectsincl...           1   \n",
              "4996  watch series first come 70si 14 year old watch...           1   \n",
              "4997  jet li bring charismatic presence movie screen...           0   \n",
              "4998  rent movie hear chris gore say something effec...           1   \n",
              "4999  big disappointment think bad mastroiannimovie ...           1   \n",
              "\n",
              "      fine_tuning  \n",
              "0               1  \n",
              "1               1  \n",
              "2               1  \n",
              "3               0  \n",
              "4               1  \n",
              "...           ...  \n",
              "4995            0  \n",
              "4996            1  \n",
              "4997            1  \n",
              "4998            0  \n",
              "4999            0  \n",
              "\n",
              "[5000 rows x 5 columns]"
            ]
          },
          "execution_count": 21,
          "metadata": {},
          "output_type": "execute_result"
        }
      ],
      "source": [
        "def predict_sentiment(text):\n",
        "    inputs = tokenizer(text, return_tensors=\"pt\", truncation=True, padding=True, max_length=512)\n",
        "    with torch.no_grad():\n",
        "        outputs = model(**inputs)\n",
        "    logits = outputs.logits\n",
        "    predictions = torch.argmax(logits, dim=-1).item()  # 0 or 1 값 반환\n",
        "    return  predictions\n",
        "\n",
        "# 데이터프레임에 적용\n",
        "df[\"fine_tuning\"] = df[\"cleaned_reviews\"].apply(predict_sentiment)\n",
        "df"
      ]
    },
    {
      "cell_type": "code",
      "execution_count": null,
      "id": "784456f4",
      "metadata": {
        "id": "784456f4",
        "outputId": "2954cf72-aa37-4e88-8453-32711ae836ec"
      },
      "outputs": [
        {
          "name": "stdout",
          "output_type": "stream",
          "text": [
            "기본 distilbert-base-uncased 모델 정확도: 48.16%\n",
            "튜닝후 distilbert-base-uncased 모델 정확도: 95.46%\n"
          ]
        }
      ],
      "source": [
        "# 튜닝없이 기본 모델 정확도 계산\n",
        "accuracy = accuracy_score(df['pretrained'], df['sentiment'])\n",
        "print(f\"기본 distilbert-base-uncased 모델 정확도: {accuracy * 100:.2f}%\")\n",
        "##파인튜닝후\n",
        "accuracy1 = accuracy_score(df['fine_tuning'], df['sentiment'])\n",
        "print(f\"튜닝후 distilbert-base-uncased 모델 정확도: {accuracy1 * 100:.2f}%\")"
      ]
    },
    {
      "cell_type": "code",
      "execution_count": null,
      "id": "5d7b3e53",
      "metadata": {
        "id": "5d7b3e53"
      },
      "outputs": [],
      "source": [
        "df = df.rename(columns={\n",
        "    \"sentiment\": \"original\", \"pretrained\" : \"Distilbert\", \"fine_tuning\":\"Distilbert with tuning\"})"
      ]
    },
    {
      "cell_type": "code",
      "execution_count": null,
      "id": "263f2eec",
      "metadata": {
        "id": "263f2eec",
        "outputId": "db6b374b-0275-4caa-9809-242e5e9f3945"
      },
      "outputs": [
        {
          "data": {
            "text/html": [
              "<div>\n",
              "<style scoped>\n",
              "    .dataframe tbody tr th:only-of-type {\n",
              "        vertical-align: middle;\n",
              "    }\n",
              "\n",
              "    .dataframe tbody tr th {\n",
              "        vertical-align: top;\n",
              "    }\n",
              "\n",
              "    .dataframe thead th {\n",
              "        text-align: right;\n",
              "    }\n",
              "</style>\n",
              "<table border=\"1\" class=\"dataframe\">\n",
              "  <thead>\n",
              "    <tr style=\"text-align: right;\">\n",
              "      <th></th>\n",
              "      <th>original</th>\n",
              "      <th>cleaned_reviews</th>\n",
              "      <th>Distilbert</th>\n",
              "      <th>Distilbert with tuning</th>\n",
              "    </tr>\n",
              "  </thead>\n",
              "  <tbody>\n",
              "    <tr>\n",
              "      <th>0</th>\n",
              "      <td>1</td>\n",
              "      <td>one reviewer mention watch 1 oz episode youll ...</td>\n",
              "      <td>1</td>\n",
              "      <td>1</td>\n",
              "    </tr>\n",
              "    <tr>\n",
              "      <th>1</th>\n",
              "      <td>1</td>\n",
              "      <td>wonderful little production filming technique ...</td>\n",
              "      <td>1</td>\n",
              "      <td>1</td>\n",
              "    </tr>\n",
              "    <tr>\n",
              "      <th>2</th>\n",
              "      <td>1</td>\n",
              "      <td>think wonderful way spend time hot summer week...</td>\n",
              "      <td>1</td>\n",
              "      <td>1</td>\n",
              "    </tr>\n",
              "    <tr>\n",
              "      <th>3</th>\n",
              "      <td>0</td>\n",
              "      <td>basically theres family little boy jake think ...</td>\n",
              "      <td>1</td>\n",
              "      <td>0</td>\n",
              "    </tr>\n",
              "    <tr>\n",
              "      <th>4</th>\n",
              "      <td>1</td>\n",
              "      <td>petter matteis love time money visually stunni...</td>\n",
              "      <td>1</td>\n",
              "      <td>1</td>\n",
              "    </tr>\n",
              "    <tr>\n",
              "      <th>...</th>\n",
              "      <td>...</td>\n",
              "      <td>...</td>\n",
              "      <td>...</td>\n",
              "      <td>...</td>\n",
              "    </tr>\n",
              "    <tr>\n",
              "      <th>4995</th>\n",
              "      <td>0</td>\n",
              "      <td>interesting slasher film multiple suspectsincl...</td>\n",
              "      <td>1</td>\n",
              "      <td>0</td>\n",
              "    </tr>\n",
              "    <tr>\n",
              "      <th>4996</th>\n",
              "      <td>1</td>\n",
              "      <td>watch series first come 70si 14 year old watch...</td>\n",
              "      <td>1</td>\n",
              "      <td>1</td>\n",
              "    </tr>\n",
              "    <tr>\n",
              "      <th>4997</th>\n",
              "      <td>1</td>\n",
              "      <td>jet li bring charismatic presence movie screen...</td>\n",
              "      <td>0</td>\n",
              "      <td>1</td>\n",
              "    </tr>\n",
              "    <tr>\n",
              "      <th>4998</th>\n",
              "      <td>0</td>\n",
              "      <td>rent movie hear chris gore say something effec...</td>\n",
              "      <td>1</td>\n",
              "      <td>0</td>\n",
              "    </tr>\n",
              "    <tr>\n",
              "      <th>4999</th>\n",
              "      <td>0</td>\n",
              "      <td>big disappointment think bad mastroiannimovie ...</td>\n",
              "      <td>1</td>\n",
              "      <td>0</td>\n",
              "    </tr>\n",
              "  </tbody>\n",
              "</table>\n",
              "<p>5000 rows × 4 columns</p>\n",
              "</div>"
            ],
            "text/plain": [
              "      original                                    cleaned_reviews  Distilbert  \\\n",
              "0            1  one reviewer mention watch 1 oz episode youll ...           1   \n",
              "1            1  wonderful little production filming technique ...           1   \n",
              "2            1  think wonderful way spend time hot summer week...           1   \n",
              "3            0  basically theres family little boy jake think ...           1   \n",
              "4            1  petter matteis love time money visually stunni...           1   \n",
              "...        ...                                                ...         ...   \n",
              "4995         0  interesting slasher film multiple suspectsincl...           1   \n",
              "4996         1  watch series first come 70si 14 year old watch...           1   \n",
              "4997         1  jet li bring charismatic presence movie screen...           0   \n",
              "4998         0  rent movie hear chris gore say something effec...           1   \n",
              "4999         0  big disappointment think bad mastroiannimovie ...           1   \n",
              "\n",
              "      Distilbert with tuning  \n",
              "0                          1  \n",
              "1                          1  \n",
              "2                          1  \n",
              "3                          0  \n",
              "4                          1  \n",
              "...                      ...  \n",
              "4995                       0  \n",
              "4996                       1  \n",
              "4997                       1  \n",
              "4998                       0  \n",
              "4999                       0  \n",
              "\n",
              "[5000 rows x 4 columns]"
            ]
          },
          "execution_count": 32,
          "metadata": {},
          "output_type": "execute_result"
        }
      ],
      "source": [
        "abc = df\n",
        "abc = abc.iloc[:,1:]\n",
        "abc"
      ]
    },
    {
      "cell_type": "code",
      "execution_count": null,
      "id": "02d9d654",
      "metadata": {
        "id": "02d9d654",
        "outputId": "52304f86-55d5-492f-bd1c-baa67ca780ce"
      },
      "outputs": [
        {
          "data": {
            "text/html": [
              "<div>\n",
              "<style scoped>\n",
              "    .dataframe tbody tr th:only-of-type {\n",
              "        vertical-align: middle;\n",
              "    }\n",
              "\n",
              "    .dataframe tbody tr th {\n",
              "        vertical-align: top;\n",
              "    }\n",
              "\n",
              "    .dataframe thead th {\n",
              "        text-align: right;\n",
              "    }\n",
              "</style>\n",
              "<table border=\"1\" class=\"dataframe\">\n",
              "  <thead>\n",
              "    <tr style=\"text-align: right;\">\n",
              "      <th></th>\n",
              "      <th>cleaned_reviews</th>\n",
              "      <th>original</th>\n",
              "      <th>Distilbert</th>\n",
              "      <th>Distilbert with tuning</th>\n",
              "    </tr>\n",
              "  </thead>\n",
              "  <tbody>\n",
              "    <tr>\n",
              "      <th>0</th>\n",
              "      <td>one reviewer mention watch 1 oz episode youll ...</td>\n",
              "      <td>1</td>\n",
              "      <td>1</td>\n",
              "      <td>1</td>\n",
              "    </tr>\n",
              "    <tr>\n",
              "      <th>1</th>\n",
              "      <td>wonderful little production filming technique ...</td>\n",
              "      <td>1</td>\n",
              "      <td>1</td>\n",
              "      <td>1</td>\n",
              "    </tr>\n",
              "    <tr>\n",
              "      <th>2</th>\n",
              "      <td>think wonderful way spend time hot summer week...</td>\n",
              "      <td>1</td>\n",
              "      <td>1</td>\n",
              "      <td>1</td>\n",
              "    </tr>\n",
              "    <tr>\n",
              "      <th>3</th>\n",
              "      <td>basically theres family little boy jake think ...</td>\n",
              "      <td>0</td>\n",
              "      <td>1</td>\n",
              "      <td>0</td>\n",
              "    </tr>\n",
              "    <tr>\n",
              "      <th>4</th>\n",
              "      <td>petter matteis love time money visually stunni...</td>\n",
              "      <td>1</td>\n",
              "      <td>1</td>\n",
              "      <td>1</td>\n",
              "    </tr>\n",
              "    <tr>\n",
              "      <th>...</th>\n",
              "      <td>...</td>\n",
              "      <td>...</td>\n",
              "      <td>...</td>\n",
              "      <td>...</td>\n",
              "    </tr>\n",
              "    <tr>\n",
              "      <th>4995</th>\n",
              "      <td>interesting slasher film multiple suspectsincl...</td>\n",
              "      <td>0</td>\n",
              "      <td>1</td>\n",
              "      <td>0</td>\n",
              "    </tr>\n",
              "    <tr>\n",
              "      <th>4996</th>\n",
              "      <td>watch series first come 70si 14 year old watch...</td>\n",
              "      <td>1</td>\n",
              "      <td>1</td>\n",
              "      <td>1</td>\n",
              "    </tr>\n",
              "    <tr>\n",
              "      <th>4997</th>\n",
              "      <td>jet li bring charismatic presence movie screen...</td>\n",
              "      <td>1</td>\n",
              "      <td>0</td>\n",
              "      <td>1</td>\n",
              "    </tr>\n",
              "    <tr>\n",
              "      <th>4998</th>\n",
              "      <td>rent movie hear chris gore say something effec...</td>\n",
              "      <td>0</td>\n",
              "      <td>1</td>\n",
              "      <td>0</td>\n",
              "    </tr>\n",
              "    <tr>\n",
              "      <th>4999</th>\n",
              "      <td>big disappointment think bad mastroiannimovie ...</td>\n",
              "      <td>0</td>\n",
              "      <td>1</td>\n",
              "      <td>0</td>\n",
              "    </tr>\n",
              "  </tbody>\n",
              "</table>\n",
              "<p>5000 rows × 4 columns</p>\n",
              "</div>"
            ],
            "text/plain": [
              "                                        cleaned_reviews  original  Distilbert  \\\n",
              "0     one reviewer mention watch 1 oz episode youll ...         1           1   \n",
              "1     wonderful little production filming technique ...         1           1   \n",
              "2     think wonderful way spend time hot summer week...         1           1   \n",
              "3     basically theres family little boy jake think ...         0           1   \n",
              "4     petter matteis love time money visually stunni...         1           1   \n",
              "...                                                 ...       ...         ...   \n",
              "4995  interesting slasher film multiple suspectsincl...         0           1   \n",
              "4996  watch series first come 70si 14 year old watch...         1           1   \n",
              "4997  jet li bring charismatic presence movie screen...         1           0   \n",
              "4998  rent movie hear chris gore say something effec...         0           1   \n",
              "4999  big disappointment think bad mastroiannimovie ...         0           1   \n",
              "\n",
              "      Distilbert with tuning  \n",
              "0                          1  \n",
              "1                          1  \n",
              "2                          1  \n",
              "3                          0  \n",
              "4                          1  \n",
              "...                      ...  \n",
              "4995                       0  \n",
              "4996                       1  \n",
              "4997                       1  \n",
              "4998                       0  \n",
              "4999                       0  \n",
              "\n",
              "[5000 rows x 4 columns]"
            ]
          },
          "execution_count": 33,
          "metadata": {},
          "output_type": "execute_result"
        }
      ],
      "source": [
        "new_order = [\"cleaned_reviews\", \"original\", \"Distilbert\", \"Distilbert with tuning\"]\n",
        "abc = abc[new_order]\n",
        "abc"
      ]
    }
  ],
  "metadata": {
    "kernelspec": {
      "display_name": "Python 3",
      "language": "python",
      "name": "python3"
    },
    "language_info": {
      "codemirror_mode": {
        "name": "ipython",
        "version": 3
      },
      "file_extension": ".py",
      "mimetype": "text/x-python",
      "name": "python",
      "nbconvert_exporter": "python",
      "pygments_lexer": "ipython3",
      "version": "3.8.3"
    },
    "colab": {
      "provenance": [],
      "include_colab_link": true
    }
  },
  "nbformat": 4,
  "nbformat_minor": 5
}